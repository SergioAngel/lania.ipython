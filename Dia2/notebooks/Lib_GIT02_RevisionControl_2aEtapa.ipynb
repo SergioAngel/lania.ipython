{
 "metadata": {
  "name": "",
  "signature": "sha256:6fa3178d4921ab7c75c8bba911c335314d56e0cf5f4871d67b7cd84321e5aaa1"
 },
 "nbformat": 3,
 "nbformat_minor": 0,
 "worksheets": [
  {
   "cells": [
    {
     "cell_type": "code",
     "collapsed": false,
     "input": [
      "%run ../talktools.py"
     ],
     "language": "python",
     "metadata": {},
     "outputs": [
      {
       "html": [
        "<link href='http://fonts.googleapis.com/css?family=Alegreya+Sans:100,300,400,500,700,800,900,100italic,300italic,400italic,500italic,700italic,800italic,900italic' rel='stylesheet' type='text/css'>\n",
        "<link href='http://fonts.googleapis.com/css?family=Arvo:400,700,400italic' rel='stylesheet' type='text/css'>\n",
        "<link href='http://fonts.googleapis.com/css?family=PT+Mono' rel='stylesheet' type='text/css'>\n",
        "<link href='http://fonts.googleapis.com/css?family=Shadows+Into+Light' rel='stylesheet' type='text/css'>\n",
        "<link href='http://fonts.googleapis.com/css?family=Nixie+One' rel='stylesheet' type='text/css'>\n",
        "<style>\n",
        "\n",
        "@font-face {\n",
        "    font-family: \"Computer Modern\";\n",
        "    src: url('http://mirrors.ctan.org/fonts/cm-unicode/fonts/otf/cmunss.otf');\n",
        "}\n",
        "\n",
        "#notebook_panel { /* main background */\n",
        "    background: rgb(245,245,245);\n",
        "}\n",
        "\n",
        "div.cell { /* set cell width */\n",
        "    width: 750px;\n",
        "}\n",
        "\n",
        "div #notebook { /* centre the content */\n",
        "    background: #fff; /* white background for content */\n",
        "    width: 1000px;\n",
        "    margin: auto;\n",
        "    padding-left: 0em;\n",
        "}\n",
        "\n",
        "#notebook li { /* More space between bullet points */\n",
        "margin-top:0.8em;\n",
        "}\n",
        "\n",
        "/* draw border around running cells */\n",
        "div.cell.border-box-sizing.code_cell.running { \n",
        "    border: 1px solid #111;\n",
        "}\n",
        "\n",
        "/* Put a solid color box around each cell and its output, visually linking them*/\n",
        "div.cell.code_cell {\n",
        "    background-color: rgb(256,256,256); \n",
        "    border-radius: 0px; \n",
        "    padding: 0.5em;\n",
        "    margin-left:1em;\n",
        "    margin-top: 1em;\n",
        "}\n",
        "\n",
        "div.text_cell_render{\n",
        "    font-family: 'Alegreya Sans' sans-serif;\n",
        "    line-height: 140%;\n",
        "    font-size: 125%;\n",
        "    font-weight: 400;\n",
        "    width:600px;\n",
        "    margin-left:auto;\n",
        "    margin-right:auto;\n",
        "}\n",
        "\n",
        "\n",
        "/* Formatting for header cells */\n",
        ".text_cell_render h1 {\n",
        "    font-family: 'Nixie One', serif;\n",
        "    font-style:regular;\n",
        "    font-weight: 400;    \n",
        "    font-size: 45pt;\n",
        "    line-height: 100%;\n",
        "    color: rgb(0,51,102);\n",
        "    margin-bottom: 0.5em;\n",
        "    margin-top: 0.5em;\n",
        "    display: block;\n",
        "}\t\n",
        ".text_cell_render h2 {\n",
        "    font-family: 'Nixie One', serif;\n",
        "    font-weight: 400;\n",
        "    font-size: 30pt;\n",
        "    line-height: 100%;\n",
        "    color: rgb(0,51,102);\n",
        "    margin-bottom: 0.1em;\n",
        "    margin-top: 0.3em;\n",
        "    display: block;\n",
        "}\t\n",
        "\n",
        ".text_cell_render h3 {\n",
        "    font-family: 'Nixie One', serif;\n",
        "    margin-top:16px;\n",
        "\tfont-size: 22pt;\n",
        "    font-weight: 600;\n",
        "    margin-bottom: 3px;\n",
        "    font-style: regular;\n",
        "    color: rgb(102,102,0);\n",
        "}\n",
        "\n",
        ".text_cell_render h4 {    /*Use this for captions*/\n",
        "    font-family: 'Nixie One', serif;\n",
        "    font-size: 14pt;\n",
        "    text-align: center;\n",
        "    margin-top: 0em;\n",
        "    margin-bottom: 2em;\n",
        "    font-style: regular;\n",
        "}\n",
        "\n",
        ".text_cell_render h5 {  /*Use this for small titles*/\n",
        "    font-family: 'Nixie One', sans-serif;\n",
        "    font-weight: 400;\n",
        "    font-size: 16pt;\n",
        "    color: rgb(163,0,0);\n",
        "    font-style: italic;\n",
        "    margin-bottom: .1em;\n",
        "    margin-top: 0.8em;\n",
        "    display: block;\n",
        "}\n",
        "\n",
        ".text_cell_render h6 { /*use this for copyright note*/\n",
        "    font-family: 'PT Mono', sans-serif;\n",
        "    font-weight: 300;\n",
        "    font-size: 9pt;\n",
        "    line-height: 100%;\n",
        "    color: grey;\n",
        "    margin-bottom: 1px;\n",
        "    margin-top: 1px;\n",
        "}\n",
        "\n",
        ".CodeMirror{\n",
        "        font-family: \"PT Mono\";\n",
        "        font-size: 90%;\n",
        "}\n",
        "\n",
        "</style>\n",
        "<script>\n",
        "    MathJax.Hub.Config({\n",
        "                        TeX: {\n",
        "                           extensions: [\"AMSmath.js\"],\n",
        "                           equationNumbers: { autoNumber: \"AMS\", useLabelIds: true}\n",
        "                           },\n",
        "                tex2jax: {\n",
        "                    inlineMath: [ ['$','$'], [\"\\\\(\",\"\\\\)\"] ],\n",
        "                    displayMath: [ ['$$','$$'], [\"\\\\[\",\"\\\\]\"] ]\n",
        "                },\n",
        "                displayAlign: 'center', // Change this to 'center' to center equations.\n",
        "                \"HTML-CSS\": {\n",
        "                    styles: {'.MathJax_Display': {\"margin\": 4}}\n",
        "                }\n",
        "        });\n",
        "</script>"
       ],
       "metadata": {},
       "output_type": "display_data",
       "text": [
        "<IPython.core.display.HTML at 0xbed0c18>"
       ]
      }
     ],
     "prompt_number": 1
    },
    {
     "cell_type": "markdown",
     "metadata": {},
     "source": [
      "# Notas para usar _git_ desde las libretas\n",
      "\n",
      "##2a Etapa: Usuario local, _branching_\n",
      "\n",
      "\n",
      "*Revision control software* o Software de Control de Rrevisiones (**SCR**) es \u00fatil en el control de cualquier contenido digital.\n",
      "\n",
      "Esta libreta presupone que se han ejecutado los comandos de la libreta\n",
      "\n",
      "* [Lib01_GIT_RevisionControl_1aEtapa](Lib01_GIT_RevisionControl_1aEtapa.ipynb)."
     ]
    },
    {
     "cell_type": "markdown",
     "metadata": {},
     "source": [
      "##Usuario local, _branching_\n",
      "Un _branch_, o una rama, del repositorio es simplemente una etiqueta para el `commit` actual en una sucesion de `commit`s:\n",
      "\n",
      "\n",
      "<!-- offline: \n",
      "![](files/fig/masterbranch.png)\n",
      "-->\n",
      "\n",
      "<img src=\"https://raw.github.com/fperez/reprosw/master/fig/masterbranch.png\" >"
     ]
    },
    {
     "cell_type": "markdown",
     "metadata": {},
     "source": [
      "Puede haber multiples _branches_ (o ramas) activas en cualquier momento. El directorio de trabajo corresponde a un estado particular que se llama HEAD (encabezado). En el ejemplo que se muestra en la figura, hay dos _branches_: _master_ y _testing_\n",
      "\n",
      "<!-- offline: \n",
      "![](files/fig/HEAD_testing.png)\n",
      "-->\n",
      "\n",
      "<img src=\"https://raw.github.com/fperez/reprosw/master/fig/HEAD_testing.png\" >"
     ]
    },
    {
     "cell_type": "markdown",
     "metadata": {},
     "source": [
      "Una vez que se realiza un nuevo `commit` en un _branch_, HEAD y la etiqueta del _branch_ cambian con el nuevo `commit`:\n",
      "\n",
      "<!-- offline: \n",
      "![](files/fig/branchcommit.png)\n",
      "-->\n",
      "\n",
      "<img src=\"https://raw.github.com/fperez/reprosw/master/fig/branchcommit.png\" >"
     ]
    },
    {
     "cell_type": "markdown",
     "metadata": {},
     "source": [
      "De este modo, la historia de ambas _branches_ (ramas) puede ser diferente:\n",
      "\n",
      "<!-- offline: \n",
      "![](files/fig/mergescenario.png)\n",
      "-->\n",
      "\n",
      "<img src=\"https://raw.github.com/fperez/reprosw/master/fig/mergescenario.png\" >"
     ]
    },
    {
     "cell_type": "markdown",
     "metadata": {},
     "source": [
      "De acuerdo a esta estructura, `git` puede calcular la informacion que necesita para juntar, _merge_, dos ramas divergentes y continuar en una misma linea de desarrollo:\n",
      "    \n",
      "<!-- offline: \n",
      "![](files/fig/mergeaftermath.png)\n",
      "-->\n",
      "\n",
      "<img src=\"https://raw.github.com/fperez/reprosw/master/fig/mergeaftermath.png\" >"
     ]
    },
    {
     "cell_type": "markdown",
     "metadata": {},
     "source": [
      "Vamos a ilustrar estas ideas con nuestro ejemplo."
     ]
    },
    {
     "cell_type": "code",
     "collapsed": false,
     "input": [
      "%%bash\n",
      "cd gitdemo/\n",
      "\n",
      "git status\n",
      "ls"
     ],
     "language": "python",
     "metadata": {},
     "outputs": [
      {
       "output_type": "stream",
       "stream": "stdout",
       "text": [
        "On branch master\n",
        "nothing to commit, working directory clean\n",
        "archivo-nuevo.txt\n"
       ]
      }
     ],
     "prompt_number": 1
    },
    {
     "cell_type": "markdown",
     "metadata": {},
     "source": [
      "Ahora vamos a intentar dos rutas diferentes de desarrollo: una sera en el `master branch`, donde pondremos un archivo, y la otra sera la `experimento branch`, la cual crearemos y le agregaremos un archivo distinto. Finalmente haremos un _merge_ de la rama `experimento` a la rama `master`."
     ]
    },
    {
     "cell_type": "code",
     "collapsed": false,
     "input": [
      "%%bash\n",
      "cd gitdemo/\n",
      "\n",
      "git branch experimento\n",
      "git checkout experimento"
     ],
     "language": "python",
     "metadata": {},
     "outputs": [
      {
       "output_type": "stream",
       "stream": "stderr",
       "text": [
        "Switched to branch 'experimento'\n"
       ]
      }
     ],
     "prompt_number": 2
    },
    {
     "cell_type": "code",
     "collapsed": false,
     "input": [
      "%%bash\n",
      "cd gitdemo/\n",
      "\n",
      "echo \"Se me ocurrieron unas ideas locas!\" > experimento.txt\n",
      "git add experimento.txt\n",
      "git commit -a -m\"Probando cosas nuevas\"\n",
      "git slog"
     ],
     "language": "python",
     "metadata": {},
     "outputs": [
      {
       "output_type": "stream",
       "stream": "stdout",
       "text": [
        "[experimento 963cdd1] Probando cosas nuevas\n",
        " 1 file changed, 1 insertion(+)\n",
        " create mode 100644 experimento.txt\n",
        "* 963cdd1 Probando cosas nuevas\n",
        "* 8a184cf Me gusta mas este nombre\n",
        "* fa79ff4 Por fin algo de progreso\n",
        "* 0200580 Este archivo refleja el primer compromiso\n"
       ]
      }
     ],
     "prompt_number": 3
    },
    {
     "cell_type": "code",
     "collapsed": false,
     "input": [
      "%%bash\n",
      "cd gitdemo/\n",
      "\n",
      "git checkout master\n",
      "git slog"
     ],
     "language": "python",
     "metadata": {},
     "outputs": [
      {
       "output_type": "stream",
       "stream": "stdout",
       "text": [
        "* 8a184cf Me gusta mas este nombre\n",
        "* fa79ff4 Por fin algo de progreso\n",
        "* 0200580 Este archivo refleja el primer compromiso\n"
       ]
      },
      {
       "output_type": "stream",
       "stream": "stderr",
       "text": [
        "Switched to branch 'master'\n"
       ]
      }
     ],
     "prompt_number": 4
    },
    {
     "cell_type": "code",
     "collapsed": false,
     "input": [
      "%%bash\n",
      "cd gitdemo/\n",
      "\n",
      "echo \"Ahora el trabajo continua en la rama master...\" >> archivo-nuevo.txt\n",
      "git commit -a -m\"La rama mayor sigue creciendo\"\n",
      "git slog"
     ],
     "language": "python",
     "metadata": {},
     "outputs": [
      {
       "output_type": "stream",
       "stream": "stdout",
       "text": [
        "[master 19847cd] La rama mayor sigue creciendo\n",
        " 1 file changed, 1 insertion(+)\n",
        "* 19847cd La rama mayor sigue creciendo\n",
        "* 8a184cf Me gusta mas este nombre\n",
        "* fa79ff4 Por fin algo de progreso\n",
        "* 0200580 Este archivo refleja el primer compromiso\n"
       ]
      }
     ],
     "prompt_number": 5
    },
    {
     "cell_type": "code",
     "collapsed": false,
     "input": [
      "%%bash\n",
      "cd gitdemo/\n",
      "\n",
      "ls"
     ],
     "language": "python",
     "metadata": {},
     "outputs": [
      {
       "output_type": "stream",
       "stream": "stdout",
       "text": [
        "archivo-nuevo.txt\n"
       ]
      }
     ],
     "prompt_number": 6
    },
    {
     "cell_type": "code",
     "collapsed": false,
     "input": [
      "%%bash\n",
      "cd gitdemo/\n",
      "\n",
      "git merge experimento\n",
      "git slog"
     ],
     "language": "python",
     "metadata": {},
     "outputs": [
      {
       "output_type": "stream",
       "stream": "stdout",
       "text": [
        "Merge made by the 'recursive' strategy.\n",
        " experimento.txt | 1 +\n",
        " 1 file changed, 1 insertion(+)\n",
        " create mode 100644 experimento.txt\n",
        "*   0436e0e Merge branch 'experimento'\n",
        "|\\  \n",
        "| * 963cdd1 Probando cosas nuevas\n",
        "* | 19847cd La rama mayor sigue creciendo\n",
        "|/  \n",
        "* 8a184cf Me gusta mas este nombre\n",
        "* fa79ff4 Por fin algo de progreso\n",
        "* 0200580 Este archivo refleja el primer compromiso\n"
       ]
      }
     ],
     "prompt_number": 7
    },
    {
     "cell_type": "code",
     "collapsed": false,
     "input": [
      "%%bash\n",
      "cd gitdemo/\n",
      "\n",
      "ls"
     ],
     "language": "python",
     "metadata": {},
     "outputs": [
      {
       "output_type": "stream",
       "stream": "stdout",
       "text": [
        "archivo-nuevo.txt\n",
        "experimento.txt\n"
       ]
      }
     ],
     "prompt_number": 8
    }
   ],
   "metadata": {}
  }
 ]
}
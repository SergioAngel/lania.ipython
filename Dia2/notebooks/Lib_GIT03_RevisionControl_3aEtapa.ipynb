{
 "metadata": {
  "name": "",
  "signature": "sha256:26870e7487b56006f446eaa796ded6bfe39de89936ac1a040a3448e1311243bb"
 },
 "nbformat": 3,
 "nbformat_minor": 0,
 "worksheets": [
  {
   "cells": [
    {
     "cell_type": "code",
     "collapsed": false,
     "input": [
      "%run ../talktools.py"
     ],
     "language": "python",
     "metadata": {},
     "outputs": [
      {
       "html": [
        "<link href='http://fonts.googleapis.com/css?family=Alegreya+Sans:100,300,400,500,700,800,900,100italic,300italic,400italic,500italic,700italic,800italic,900italic' rel='stylesheet' type='text/css'>\n",
        "<link href='http://fonts.googleapis.com/css?family=Arvo:400,700,400italic' rel='stylesheet' type='text/css'>\n",
        "<link href='http://fonts.googleapis.com/css?family=PT+Mono' rel='stylesheet' type='text/css'>\n",
        "<link href='http://fonts.googleapis.com/css?family=Shadows+Into+Light' rel='stylesheet' type='text/css'>\n",
        "<link href='http://fonts.googleapis.com/css?family=Nixie+One' rel='stylesheet' type='text/css'>\n",
        "<style>\n",
        "\n",
        "@font-face {\n",
        "    font-family: \"Computer Modern\";\n",
        "    src: url('http://mirrors.ctan.org/fonts/cm-unicode/fonts/otf/cmunss.otf');\n",
        "}\n",
        "\n",
        "#notebook_panel { /* main background */\n",
        "    background: rgb(245,245,245);\n",
        "}\n",
        "\n",
        "div.cell { /* set cell width */\n",
        "    width: 750px;\n",
        "}\n",
        "\n",
        "div #notebook { /* centre the content */\n",
        "    background: #fff; /* white background for content */\n",
        "    width: 1000px;\n",
        "    margin: auto;\n",
        "    padding-left: 0em;\n",
        "}\n",
        "\n",
        "#notebook li { /* More space between bullet points */\n",
        "margin-top:0.8em;\n",
        "}\n",
        "\n",
        "/* draw border around running cells */\n",
        "div.cell.border-box-sizing.code_cell.running { \n",
        "    border: 1px solid #111;\n",
        "}\n",
        "\n",
        "/* Put a solid color box around each cell and its output, visually linking them*/\n",
        "div.cell.code_cell {\n",
        "    background-color: rgb(256,256,256); \n",
        "    border-radius: 0px; \n",
        "    padding: 0.5em;\n",
        "    margin-left:1em;\n",
        "    margin-top: 1em;\n",
        "}\n",
        "\n",
        "div.text_cell_render{\n",
        "    font-family: 'Alegreya Sans' sans-serif;\n",
        "    line-height: 140%;\n",
        "    font-size: 125%;\n",
        "    font-weight: 400;\n",
        "    width:600px;\n",
        "    margin-left:auto;\n",
        "    margin-right:auto;\n",
        "}\n",
        "\n",
        "\n",
        "/* Formatting for header cells */\n",
        ".text_cell_render h1 {\n",
        "    font-family: 'Nixie One', serif;\n",
        "    font-style:regular;\n",
        "    font-weight: 400;    \n",
        "    font-size: 45pt;\n",
        "    line-height: 100%;\n",
        "    color: rgb(0,51,102);\n",
        "    margin-bottom: 0.5em;\n",
        "    margin-top: 0.5em;\n",
        "    display: block;\n",
        "}\t\n",
        ".text_cell_render h2 {\n",
        "    font-family: 'Nixie One', serif;\n",
        "    font-weight: 400;\n",
        "    font-size: 30pt;\n",
        "    line-height: 100%;\n",
        "    color: rgb(0,51,102);\n",
        "    margin-bottom: 0.1em;\n",
        "    margin-top: 0.3em;\n",
        "    display: block;\n",
        "}\t\n",
        "\n",
        ".text_cell_render h3 {\n",
        "    font-family: 'Nixie One', serif;\n",
        "    margin-top:16px;\n",
        "\tfont-size: 22pt;\n",
        "    font-weight: 600;\n",
        "    margin-bottom: 3px;\n",
        "    font-style: regular;\n",
        "    color: rgb(102,102,0);\n",
        "}\n",
        "\n",
        ".text_cell_render h4 {    /*Use this for captions*/\n",
        "    font-family: 'Nixie One', serif;\n",
        "    font-size: 14pt;\n",
        "    text-align: center;\n",
        "    margin-top: 0em;\n",
        "    margin-bottom: 2em;\n",
        "    font-style: regular;\n",
        "}\n",
        "\n",
        ".text_cell_render h5 {  /*Use this for small titles*/\n",
        "    font-family: 'Nixie One', sans-serif;\n",
        "    font-weight: 400;\n",
        "    font-size: 16pt;\n",
        "    color: rgb(163,0,0);\n",
        "    font-style: italic;\n",
        "    margin-bottom: .1em;\n",
        "    margin-top: 0.8em;\n",
        "    display: block;\n",
        "}\n",
        "\n",
        ".text_cell_render h6 { /*use this for copyright note*/\n",
        "    font-family: 'PT Mono', sans-serif;\n",
        "    font-weight: 300;\n",
        "    font-size: 9pt;\n",
        "    line-height: 100%;\n",
        "    color: grey;\n",
        "    margin-bottom: 1px;\n",
        "    margin-top: 1px;\n",
        "}\n",
        "\n",
        ".CodeMirror{\n",
        "        font-family: \"PT Mono\";\n",
        "        font-size: 90%;\n",
        "}\n",
        "\n",
        "</style>\n",
        "<script>\n",
        "    MathJax.Hub.Config({\n",
        "                        TeX: {\n",
        "                           extensions: [\"AMSmath.js\"],\n",
        "                           equationNumbers: { autoNumber: \"AMS\", useLabelIds: true}\n",
        "                           },\n",
        "                tex2jax: {\n",
        "                    inlineMath: [ ['$','$'], [\"\\\\(\",\"\\\\)\"] ],\n",
        "                    displayMath: [ ['$$','$$'], [\"\\\\[\",\"\\\\]\"] ]\n",
        "                },\n",
        "                displayAlign: 'center', // Change this to 'center' to center equations.\n",
        "                \"HTML-CSS\": {\n",
        "                    styles: {'.MathJax_Display': {\"margin\": 4}}\n",
        "                }\n",
        "        });\n",
        "</script>"
       ],
       "metadata": {},
       "output_type": "display_data",
       "text": [
        "<IPython.core.display.HTML at 0xc6fec18>"
       ]
      }
     ],
     "prompt_number": 1
    },
    {
     "cell_type": "markdown",
     "metadata": {},
     "source": [
      "# Notas para usar _git_ desde las libretas\n",
      "\n",
      "##3a Etapa: Usuario local, repositorios remotos\n",
      "\n",
      "\n",
      "*Revision control software* o Software de Control de Rrevisiones (**SCR**) es \u00fatil en el control de cualquier contenido digital.\n",
      "\n",
      "Esta libreta presupone que se han ejecutado y entendido los comandos de las libretas \n",
      "\n",
      "* [Lib01_GIT_RevisionControl_1aEtapa](Lib01_GIT_RevisionControl_1aEtapa.ipynb),\n",
      "* [Lib02_GIT_RevisionControl_2aEtapa](Lib02_GIT_RevisionControl_2aEtapa.ipynb)"
     ]
    },
    {
     "cell_type": "markdown",
     "metadata": {},
     "source": [
      "##Repositorios remotos\n",
      "En esta etapa introduciremos el concepto de repositorios remotos: un puntero a otra copia del repositorio que vive en una localidad distinta. Esta puede ser la ruta a un folder en el sistema de archivos o puede ser un servidor en la red.\n",
      "\n",
      "Para este ejemplo usaremos repositorios remotos organizados en el servicio de la nube [GitHub.com](http://github.com)."
     ]
    },
    {
     "cell_type": "code",
     "collapsed": false,
     "input": [
      "%%bash\n",
      "cd gitdemo/\n",
      "\n",
      "ls\n",
      "echo \"Veamos si tenemos algun repositorio remoto aqui:\"\n",
      "git remote -v"
     ],
     "language": "python",
     "metadata": {},
     "outputs": [
      {
       "output_type": "stream",
       "stream": "stdout",
       "text": [
        "archivo-nuevo.txt\n",
        "experimento.txt\n",
        "Veamos si tenemos algun repositorio remoto aqui:\n"
       ]
      }
     ],
     "prompt_number": 2
    },
    {
     "cell_type": "markdown",
     "metadata": {},
     "source": [
      "Dado que no hay salida producida por el comando `git remote -v`, no existen repositorio remotos configurados. Ahora haremos uno. Para esto necesitan credenciales de acceso al servicio. Si no las tienen aun, [solicitenlas en este enlace](https://github.com/join) (el servicio es gratis). "
     ]
    },
    {
     "cell_type": "markdown",
     "metadata": {},
     "source": [
      "Una vez que han ingresado al servicio, dirijanse a la [pagina para crear un repositorio nuevo](https://github.com/new) y hagan uno que se llame `prueba`. **No** marquen la opcion `Initialize this repository with a README`, ya que tenemos un repositorio existente en el archivo local. Esa opcion es practica si se esta creando el repositorio desde Github y no se tiene ya uno en su computadora local.\n",
      "\n",
      "Sigan las instrucciones de las paginas siguientes (**Atencion**: el siguiente comando requiere de las credenciales de ingreso al servicio. Si se ejecutan desde la libreta y el tiempo de cache ha pasado, no podran acceder desde aqui)."
     ]
    },
    {
     "cell_type": "code",
     "collapsed": false,
     "input": [
      "%%bash\n",
      "cd gitdemo/\n",
      "\n",
      "git remote add origin https://github.com/htapia/prueba.git\n",
      "git push -u origin master"
     ],
     "language": "python",
     "metadata": {},
     "outputs": [
      {
       "output_type": "stream",
       "stream": "stdout",
       "text": [
        "Branch master set up to track remote branch master from origin.\n"
       ]
      },
      {
       "output_type": "stream",
       "stream": "stderr",
       "text": [
        "fatal: remote origin already exists.\n",
        "Everything up-to-date\n"
       ]
      }
     ],
     "prompt_number": 4
    },
    {
     "cell_type": "markdown",
     "metadata": {},
     "source": [
      "Veamos de nuevo la situacion de repositorios remotos:"
     ]
    },
    {
     "cell_type": "code",
     "collapsed": false,
     "input": [
      "%%bash\n",
      "cd gitdemo/\n",
      "\n",
      "git remote -v"
     ],
     "language": "python",
     "metadata": {},
     "outputs": [
      {
       "output_type": "stream",
       "stream": "stdout",
       "text": [
        "origin\thttps://github.com/htapia/prueba.git (fetch)\n",
        "origin\thttps://github.com/htapia/prueba.git (push)\n"
       ]
      }
     ],
     "prompt_number": 5
    },
    {
     "cell_type": "markdown",
     "metadata": {},
     "source": [
      "El [repositorio recien creado es publico en github](repositorio recien creado es publico en github).\n",
      "\n",
      "Veamos como puede ser util esto para resguardar y sincronizar trabajo entre dos computadoras diferentes. Simularemos una segunda computadora trabajando en un directorio distinto..."
     ]
    },
    {
     "cell_type": "code",
     "collapsed": false,
     "input": [
      "%%bash\n",
      "git clone https://github.com/htapia/prueba.git prueba2\n",
      "cd prueba2\n",
      "pwd\n",
      "git remote -v"
     ],
     "language": "python",
     "metadata": {},
     "outputs": [
      {
       "output_type": "stream",
       "stream": "stdout",
       "text": [
        "/home/htapia/LocalRepos/lania.research/htapiagroup/imageproc/src/prueba2\n",
        "origin\thttps://github.com/htapia/prueba.git (fetch)\n",
        "origin\thttps://github.com/htapia/prueba.git (push)\n"
       ]
      },
      {
       "output_type": "stream",
       "stream": "stderr",
       "text": [
        "Cloning into 'prueba2'...\n"
       ]
      }
     ],
     "prompt_number": 6
    },
    {
     "cell_type": "markdown",
     "metadata": {},
     "source": [
      "Ahora haremos unos cambios en la \"computadora\" y los sincronizaremos en la segunda."
     ]
    },
    {
     "cell_type": "code",
     "collapsed": false,
     "input": [
      "ls prueba2/"
     ],
     "language": "python",
     "metadata": {},
     "outputs": [
      {
       "output_type": "stream",
       "stream": "stdout",
       "text": [
        "archivo-nuevo.txt  experimento.txt\r\n"
       ]
      }
     ],
     "prompt_number": 7
    },
    {
     "cell_type": "code",
     "collapsed": false,
     "input": [
      "%%bash\n",
      "cd prueba2/\n",
      "\n",
      "echo \"Otros resultados del experimento en otra maquina\" >> experimento.txt\n",
      "git commit -a -m\"Un poco mas trabajo, realizado en la computadora #2\""
     ],
     "language": "python",
     "metadata": {},
     "outputs": [
      {
       "output_type": "stream",
       "stream": "stdout",
       "text": [
        "[master 8c425f5] Un poco mas trabajo, realizado en la computadora #2\n",
        " 1 file changed, 1 insertion(+)\n"
       ]
      }
     ],
     "prompt_number": 11
    },
    {
     "cell_type": "markdown",
     "metadata": {},
     "source": [
      "Ahora pondremos este avance en el trabajo en los servidores de github, de este modo lo hacemos accesible desde el internet."
     ]
    },
    {
     "cell_type": "code",
     "collapsed": false,
     "input": [
      "%%bash\n",
      "cd prueba2/\n",
      "\n",
      "git push"
     ],
     "language": "python",
     "metadata": {},
     "outputs": [
      {
       "output_type": "stream",
       "stream": "stderr",
       "text": [
        "To https://github.com/htapia/prueba.git\n",
        "   8c1e969..8c425f5  master -> master\n"
       ]
      }
     ],
     "prompt_number": 12
    },
    {
     "cell_type": "markdown",
     "metadata": {},
     "source": [
      "Ahora \"traeremos\" (_fetch_) el trabajo realizado a la maquina 1:"
     ]
    },
    {
     "cell_type": "code",
     "collapsed": false,
     "input": [
      "%%bash\n",
      "cd gitdemo/\n",
      "\n",
      "git pull"
     ],
     "language": "python",
     "metadata": {},
     "outputs": [
      {
       "output_type": "stream",
       "stream": "stdout",
       "text": [
        "Updating 0436e0e..8c425f5\n",
        "Fast-forward\n",
        " experimento.txt | 2 ++\n",
        " 1 file changed, 2 insertions(+)\n"
       ]
      },
      {
       "output_type": "stream",
       "stream": "stderr",
       "text": [
        "From https://github.com/htapia/prueba\n",
        "   0436e0e..8c425f5  master     -> origin/master\n"
       ]
      }
     ],
     "prompt_number": 13
    }
   ],
   "metadata": {}
  }
 ]
}
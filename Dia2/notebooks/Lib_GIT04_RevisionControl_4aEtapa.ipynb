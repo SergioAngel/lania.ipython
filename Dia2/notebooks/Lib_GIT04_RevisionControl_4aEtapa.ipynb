{
 "metadata": {
  "name": "",
  "signature": "sha256:5e67e4bf67b6512aededa480ab467bebbb39ee367b294e122bd1a7600098cf4d"
 },
 "nbformat": 3,
 "nbformat_minor": 0,
 "worksheets": [
  {
   "cells": [
    {
     "cell_type": "code",
     "collapsed": false,
     "input": [
      "%run ../talktools.py"
     ],
     "language": "python",
     "metadata": {},
     "outputs": [
      {
       "html": [
        "<link href='http://fonts.googleapis.com/css?family=Alegreya+Sans:100,300,400,500,700,800,900,100italic,300italic,400italic,500italic,700italic,800italic,900italic' rel='stylesheet' type='text/css'>\n",
        "<link href='http://fonts.googleapis.com/css?family=Arvo:400,700,400italic' rel='stylesheet' type='text/css'>\n",
        "<link href='http://fonts.googleapis.com/css?family=PT+Mono' rel='stylesheet' type='text/css'>\n",
        "<link href='http://fonts.googleapis.com/css?family=Shadows+Into+Light' rel='stylesheet' type='text/css'>\n",
        "<link href='http://fonts.googleapis.com/css?family=Nixie+One' rel='stylesheet' type='text/css'>\n",
        "<style>\n",
        "\n",
        "@font-face {\n",
        "    font-family: \"Computer Modern\";\n",
        "    src: url('http://mirrors.ctan.org/fonts/cm-unicode/fonts/otf/cmunss.otf');\n",
        "}\n",
        "\n",
        "#notebook_panel { /* main background */\n",
        "    background: rgb(245,245,245);\n",
        "}\n",
        "\n",
        "div.cell { /* set cell width */\n",
        "    width: 750px;\n",
        "}\n",
        "\n",
        "div #notebook { /* centre the content */\n",
        "    background: #fff; /* white background for content */\n",
        "    width: 1000px;\n",
        "    margin: auto;\n",
        "    padding-left: 0em;\n",
        "}\n",
        "\n",
        "#notebook li { /* More space between bullet points */\n",
        "margin-top:0.8em;\n",
        "}\n",
        "\n",
        "/* draw border around running cells */\n",
        "div.cell.border-box-sizing.code_cell.running { \n",
        "    border: 1px solid #111;\n",
        "}\n",
        "\n",
        "/* Put a solid color box around each cell and its output, visually linking them*/\n",
        "div.cell.code_cell {\n",
        "    background-color: rgb(256,256,256); \n",
        "    border-radius: 0px; \n",
        "    padding: 0.5em;\n",
        "    margin-left:1em;\n",
        "    margin-top: 1em;\n",
        "}\n",
        "\n",
        "div.text_cell_render{\n",
        "    font-family: 'Alegreya Sans' sans-serif;\n",
        "    line-height: 140%;\n",
        "    font-size: 125%;\n",
        "    font-weight: 400;\n",
        "    width:600px;\n",
        "    margin-left:auto;\n",
        "    margin-right:auto;\n",
        "}\n",
        "\n",
        "\n",
        "/* Formatting for header cells */\n",
        ".text_cell_render h1 {\n",
        "    font-family: 'Nixie One', serif;\n",
        "    font-style:regular;\n",
        "    font-weight: 400;    \n",
        "    font-size: 45pt;\n",
        "    line-height: 100%;\n",
        "    color: rgb(0,51,102);\n",
        "    margin-bottom: 0.5em;\n",
        "    margin-top: 0.5em;\n",
        "    display: block;\n",
        "}\t\n",
        ".text_cell_render h2 {\n",
        "    font-family: 'Nixie One', serif;\n",
        "    font-weight: 400;\n",
        "    font-size: 30pt;\n",
        "    line-height: 100%;\n",
        "    color: rgb(0,51,102);\n",
        "    margin-bottom: 0.1em;\n",
        "    margin-top: 0.3em;\n",
        "    display: block;\n",
        "}\t\n",
        "\n",
        ".text_cell_render h3 {\n",
        "    font-family: 'Nixie One', serif;\n",
        "    margin-top:16px;\n",
        "\tfont-size: 22pt;\n",
        "    font-weight: 600;\n",
        "    margin-bottom: 3px;\n",
        "    font-style: regular;\n",
        "    color: rgb(102,102,0);\n",
        "}\n",
        "\n",
        ".text_cell_render h4 {    /*Use this for captions*/\n",
        "    font-family: 'Nixie One', serif;\n",
        "    font-size: 14pt;\n",
        "    text-align: center;\n",
        "    margin-top: 0em;\n",
        "    margin-bottom: 2em;\n",
        "    font-style: regular;\n",
        "}\n",
        "\n",
        ".text_cell_render h5 {  /*Use this for small titles*/\n",
        "    font-family: 'Nixie One', sans-serif;\n",
        "    font-weight: 400;\n",
        "    font-size: 16pt;\n",
        "    color: rgb(163,0,0);\n",
        "    font-style: italic;\n",
        "    margin-bottom: .1em;\n",
        "    margin-top: 0.8em;\n",
        "    display: block;\n",
        "}\n",
        "\n",
        ".text_cell_render h6 { /*use this for copyright note*/\n",
        "    font-family: 'PT Mono', sans-serif;\n",
        "    font-weight: 300;\n",
        "    font-size: 9pt;\n",
        "    line-height: 100%;\n",
        "    color: grey;\n",
        "    margin-bottom: 1px;\n",
        "    margin-top: 1px;\n",
        "}\n",
        "\n",
        ".CodeMirror{\n",
        "        font-family: \"PT Mono\";\n",
        "        font-size: 90%;\n",
        "}\n",
        "\n",
        "</style>\n",
        "<script>\n",
        "    MathJax.Hub.Config({\n",
        "                        TeX: {\n",
        "                           extensions: [\"AMSmath.js\"],\n",
        "                           equationNumbers: { autoNumber: \"AMS\", useLabelIds: true}\n",
        "                           },\n",
        "                tex2jax: {\n",
        "                    inlineMath: [ ['$','$'], [\"\\\\(\",\"\\\\)\"] ],\n",
        "                    displayMath: [ ['$$','$$'], [\"\\\\[\",\"\\\\]\"] ]\n",
        "                },\n",
        "                displayAlign: 'center', // Change this to 'center' to center equations.\n",
        "                \"HTML-CSS\": {\n",
        "                    styles: {'.MathJax_Display': {\"margin\": 4}}\n",
        "                }\n",
        "        });\n",
        "</script>"
       ],
       "metadata": {},
       "output_type": "display_data",
       "text": [
        "<IPython.core.display.HTML at 0xc719c18>"
       ]
      }
     ],
     "prompt_number": 1
    },
    {
     "cell_type": "markdown",
     "metadata": {},
     "source": [
      "# Notas para usar _git_ desde las libretas\n",
      "\n",
      "##4a Etapa: Colaboracion\n",
      "\n",
      "*Revision control software* o Software de Control de Rrevisiones (**SCR**) es \u00fatil en el control de cualquier contenido digital.\n",
      "\n",
      "Esta libreta presupone que se han ejecutado y entendido los comandos trabajados en las sessiones anteriores:\n",
      "* [Lib01_GIT_RevisionControl_1aEtapa](Lib01_GIT_RevisionControl_1aEtapa.ipynb), \n",
      "* [Lib02_GIT_RevisionControl_2aEtapa](Lib02_GIT_RevisionControl_2aEtapa.ipynb),\n",
      "* [Lib03_GIT_RevisionControl_3aEtapa](Lib03_GIT_RevisionControl_3aEtapa.ipynb)."
     ]
    },
    {
     "cell_type": "markdown",
     "metadata": {},
     "source": [
      "Esta parte esta disenada para los estudiantes del grupo de investigacion. Mostraremos el flujo principal de trabajo para colaborar en un proyecto en el que *los participantes tienen los mismo privilegios en el mismo repositorio*.\n",
      "\n",
      "Dentro del espacio `htapiagroup` creare un repositorio por cada proyecto: \n",
      "    * imageproc\n",
      "    * gputest\n",
      "    * clumps\n",
      "De acuerdo a lo que aprendieron al estudiar las libretas, estas corresponden a los `master branch`. Su tarea es seguir estas notas para crear sus propias ramas en los repositorios donde desarrollaran su trabajo de tesis. \n",
      "\n",
      "Cada uno de ustedes accedera al repositorio que le corresponde de acuerdo a su tema de tesis. De este modo habra dos personas compartiendo repositorio, ustedes (U) y yo (Y). Yo creare el repositorio con el contenido de estas libretas, ustedes lo clonaran (Ver libreta [GIT_RevisionControl_3aEtapa](Lib03_GIT_RevisionControl_3aEtapa.ipynb) y haran cambios locales (en su computadora) y los \"empujaran\" al repositorio en linea, me notificara y yo \"jalare\" los cambios a mi repositorio propio.\n",
      "\n",
      "Despues aprenderemos juntos a actualizar el repositorio con cambios a los documentos. \n",
      "\n",
      "A continuacion las instrucciones que use para crear el repositorio imageproc en el grupo y mi propia rama dentro del mismo. Recuerden que si lo hacen desde las libretas deben cuidar el cambio al directorio apropiado. En mi caso (tambien pueden ver la ejecucion de estos comandos en [una libreta](Lib05_GIT_RevisionControl_Aplicacion.ipynb):"
     ]
    },
    {
     "cell_type": "code",
     "collapsed": false,
     "input": [
      "%%bash\n",
      "\n",
      "# 1a ETAPA: LOCAL\n",
      "# crea el repositorio en directorio actual\n",
      "git init imageproc\n",
      "\n",
      "# cambia al directorio del repositorio local\n",
      "cd imageproc\n",
      "# crea subdirectorios estandares\n",
      "mkdir libretas    # contiene todas las libretas de IPython\n",
      "mkdir recursos    # recursos adicionales (p.e. datos, documentos, imagenes)\n",
      "mkdir styles      # estilos .css para presentacion\n",
      "echo \"Repositorio creado por HTM en 09/15/2014\"> Readme.md\n",
      "\n",
      "# incluye el archivo Readme.md en la lista de seguimiento\n",
      "git add Readme.md\n",
      "# hace los cambios permanentes (local)\n",
      "git commit -a -m\"Primera creacion del repositorio imageproc\"\n",
      "git slog\n",
      "\n",
      "# copia contenido a folder local\n",
      "cp GIT_* ./libretas/\n",
      "ls libretas/\n",
      "\n",
      "# despliguea diferencias en repositorio local\n",
      "git diff\n",
      "git slog\n",
      "\n",
      "# incluye el nuevo contenido a la lista de seguimiento\n",
      "git add *\n",
      "\n",
      "# hace los cambios permanentes (local)\n",
      "git commit -a -m\"Agregando libretas de curso Git\"\n",
      "\n",
      "# el resultado del siguiente comando debe indicar que todo esta en orden\n",
      "# con el mensaje \"..working directory clean\"\n",
      "git status\n",
      "\n",
      "# 2a ETAPA: REMOTO\n",
      "# sincronizando repositorio local con repositorio remoto \n",
      "# (repositorio remoto previamente creado en github.com)\n",
      "# NOTA: ESTE COMANDO SOLICITA CREDENCIALES DE ACCESO AL SERVICIO\n",
      "# SE RECOMIENDA NO EJECUTARSE EN LA LIBRETA\n",
      "git remote add origin https://github.com/htapiagroup/imageproc.git\n",
      "git push -u origin master\n",
      "\n",
      "# cambiar localmente al repositorio branch\n",
      "# modificar el nombre_branch_repositorio\n",
      "git branch nombre_branch_repositorio\n",
      "git checkout nombre_branch_repositorio\n",
      "\n",
      "# incluye el contenido del branch a la lista de seguimiento (del branch)\n",
      "git add .\n",
      "git commit -a -m\"Primer commit a mi branch en imageproc\"\n",
      "git slog\n",
      "\n",
      "# sincroniza con el repositorio remoto\n",
      "# NOTA: modificar nombre_branch_repositorio \n",
      "# en las dos lineas siguiente de acuerdo al nombre del branch\n",
      "git remote add nombre_branch_repositorio https://github.com/htapiagroup/imageproc.git\n",
      "git push -u origin nombre_branch_repositorio\n",
      "\n",
      "# una ultima checada\n",
      "git remote -v\n",
      "git status"
     ],
     "language": "python",
     "metadata": {},
     "outputs": [
      {
       "metadata": {},
       "output_type": "pyout",
       "prompt_number": 2,
       "text": [
        "u'/home/htapia/LocalRepos/lania.research/htapiagroup/imageproc/src'"
       ]
      }
     ],
     "prompt_number": 2
    },
    {
     "cell_type": "markdown",
     "metadata": {},
     "source": [
      "##Referencias\n",
      "###Material introductorio\n",
      "Existen muchos buenos tutoriales de Git. Aqui hay una lista corta (en ingles) de algunos:\n",
      "\n",
      "1. Lo mas basico: [git - the simple guide](http://rogerdudler.github.com/git-guide). Muy rapido de leer\n",
      "\n",
      "1.  Lo mas conciso: [Git Reference](http://gitref.org): compacto pero con muchas de las ideas fundamentales.\n",
      "\n",
      "1. Otro recurso completo: [Understanding Git\n",
      "Conceptually](http://www.sbf5.com/~cduan/technical/git).\n",
      "\n",
      "1.  Para mas detalles:[Pro\n",
      "    Git](http://progit.org/book) libro en linea, o partes de [Git community book](http://book.git-scm.com).\n",
      "\n",
      "Para un comienzo rapido, este [tutorial visual de git](http://www.ralfebert.de/blog/tools/visual_git_tutorial_1) puede ser suficiente.\n",
      "\n",
      "Para usuarios de windows, [una guia ilustrada de Git en Windows](http://nathanj.github.com/gitguide/tour.html) puede ser util.\n",
      "\n",
      "Hojas de referencia:   Dos diferentes\n",
      "    [hojas](http://zrusin.blogspot.com/2007/09/git-cheat-sheet.html) de \n",
      "    [referenci](http://jan-krueger.net/development/git-cheat-sheet-extended-edition)\n",
      "    en formato PDF que pueden tenerse a la mano como referencia."
     ]
    },
    {
     "cell_type": "code",
     "collapsed": false,
     "input": [],
     "language": "python",
     "metadata": {},
     "outputs": []
    }
   ],
   "metadata": {}
  }
 ]
}